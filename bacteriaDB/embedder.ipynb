{
 "cells": [
  {
   "cell_type": "code",
   "execution_count": 1,
   "id": "bc978eca-0f07-417c-8465-9163c0c3ad81",
   "metadata": {},
   "outputs": [
    {
     "name": "stderr",
     "output_type": "stream",
     "text": [
      "/project/jespinoza_1537/GENOMESDB/bacteriaDB/venv/lib/python3.11/site-packages/tqdm/auto.py:21: TqdmWarning: IProgress not found. Please update jupyter and ipywidgets. See https://ipywidgets.readthedocs.io/en/stable/user_install.html\n",
      "  from .autonotebook import tqdm as notebook_tqdm\n",
      "Some weights of the model checkpoint at facebook/esm2_t33_650M_UR50D were not used when initializing EsmForMaskedLM: ['esm.embeddings.position_embeddings.weight']\n",
      "- This IS expected if you are initializing EsmForMaskedLM from the checkpoint of a model trained on another task or with another architecture (e.g. initializing a BertForSequenceClassification model from a BertForPreTraining model).\n",
      "- This IS NOT expected if you are initializing EsmForMaskedLM from the checkpoint of a model that you expect to be exactly identical (initializing a BertForSequenceClassification model from a BertForSequenceClassification model).\n"
     ]
    }
   ],
   "source": [
    "from transformers import AutoTokenizer, EsmForMaskedLM\n",
    "\n",
    "model_name = \"facebook/esm2_t33_650M_UR50D\"\n",
    "tokenizer = AutoTokenizer.from_pretrained(model_name)\n",
    "model = EsmForMaskedLM.from_pretrained(model_name)"
   ]
  },
  {
   "cell_type": "code",
   "execution_count": 3,
   "id": "ba68923b-c46a-4c53-a77c-9c31f37aa09e",
   "metadata": {},
   "outputs": [],
   "source": [
    "import torch\n",
    "import csv\n",
    "import pandas as pd"
   ]
  },
  {
   "cell_type": "code",
   "execution_count": 4,
   "id": "76ebb075-9058-459b-b9e2-e54f72151ee0",
   "metadata": {},
   "outputs": [],
   "source": [
    "\n",
    "##### DOUBLE CHECKS THIS IS OK AND THAT YOU UNDERSTAND IT\n",
    "def get_mean_embedding(sequence):\n",
    "    inputs = tokenizer(sequence, return_tensors=\"pt\", padding=True, truncation=True)\n",
    "    with torch.no_grad():\n",
    "        outputs = model(**inputs, output_hidden_states=True)\n",
    "        last_hidden_state = outputs.hidden_states[-1]\n",
    "        attention_mask = inputs[\"attention_mask\"]\n",
    "        embedding = (last_hidden_state * attention_mask.unsqueeze(-1)).sum(1) / attention_mask.sum(1).unsqueeze(-1)\n",
    "        return embedding.squeeze(0).numpy()"
   ]
  },
  {
   "cell_type": "code",
   "execution_count": null,
   "id": "064e8802-c73c-4ca0-9c8d-bf685b581e81",
   "metadata": {
    "scrolled": true
   },
   "outputs": [
    {
     "name": "stderr",
     "output_type": "stream",
     "text": [
      "Asking to truncate to max_length but no maximum length is provided and the model has no predefined maximum length. Default to no truncation.\n"
     ]
    },
    {
     "name": "stdout",
     "output_type": "stream",
     "text": [
      "1\n",
      "2\n",
      "3\n",
      "4\n",
      "5\n",
      "6\n",
      "7\n",
      "8\n",
      "9\n",
      "10\n",
      "11\n",
      "12\n",
      "13\n",
      "14\n",
      "15\n",
      "16\n",
      "17\n",
      "18\n",
      "19\n",
      "20\n",
      "21\n",
      "22\n",
      "23\n",
      "24\n",
      "25\n",
      "26\n",
      "27\n",
      "28\n",
      "29\n",
      "30\n",
      "31\n",
      "32\n",
      "33\n",
      "34\n",
      "35\n",
      "36\n",
      "37\n",
      "38\n",
      "39\n",
      "40\n",
      "41\n",
      "42\n",
      "43\n",
      "44\n",
      "45\n",
      "46\n",
      "47\n",
      "48\n",
      "49\n",
      "50\n",
      "51\n",
      "52\n",
      "53\n",
      "54\n",
      "55\n",
      "56\n",
      "57\n",
      "58\n",
      "59\n",
      "60\n",
      "61\n",
      "62\n",
      "63\n",
      "64\n",
      "65\n",
      "66\n",
      "67\n",
      "68\n",
      "69\n",
      "70\n",
      "71\n",
      "72\n",
      "73\n",
      "74\n",
      "75\n",
      "76\n",
      "77\n",
      "78\n",
      "79\n"
     ]
    }
   ],
   "source": [
    "\n",
    "\n",
    "# USER DEFINED PARAMS (0 INDEXED)\n",
    "iterations = 11 # Should be >= 1\n",
    "startChunk = 189 # This will be total_rows/chunksize\n",
    "chunkSize = 10000\n",
    "\n",
    "# PROGRAM\n",
    "# Read out the csv in chunks\n",
    "reader = pd.read_csv(\n",
    "        \"GENOMESDB/bacteriaDB/bacteriaRandSub.csv\",\n",
    "        usecols=[2],\n",
    "        names=[\"seq\"],\n",
    "        chunksize=chunkSize, \n",
    "        iterator=True)\n",
    "\n",
    "# Skip until start chunk\n",
    "for _ in range(startChunk):\n",
    "    try:\n",
    "        next(reader)\n",
    "    except StopIteration:\n",
    "        raise RuntimeError(f\"File has fewer than {startChunk} chunks.\")\n",
    "\n",
    "# Unless first run open in append mode to not remove old data\n",
    "mode = \"a\" if startChunk > 0 else \"w\"\n",
    "with open('embeddings.csv', mode, newline='') as f:\n",
    "    writer = csv.writer(f)\n",
    "\n",
    "    processed = 0\n",
    "\n",
    "    # Process each batch using the reader\n",
    "    for batch in reader:\n",
    "        count = 0\n",
    "        \n",
    "        if processed >= iterations:\n",
    "            print(f\"Reached limit of {iterations} chunks; stopping.\")\n",
    "            break\n",
    "\n",
    "        seqs = batch[\"seq\"].astype(str).tolist()\n",
    "        embeddings = []\n",
    "\n",
    "        for seq in seqs:\n",
    "            count+=1\n",
    "            #print(seq[:150])\n",
    "            print(count)\n",
    "            emb = get_mean_embedding(seq[:150])\n",
    "            embeddings.append(emb)\n",
    "\n",
    "        writer.writerows(embeddings)\n",
    "        print(f\"Finished chunk #{startChunk + processed + 1}\")\n",
    "\n",
    "        if torch.cuda.is_available():\n",
    "            torch.cuda.empty_cache()\n",
    "\n",
    "        processed += 1\n"
   ]
  },
  {
   "cell_type": "code",
   "execution_count": null,
   "id": "d37c3ffc-1deb-4fab-b136-c32de672b950",
   "metadata": {
    "scrolled": true
   },
   "outputs": [],
   "source": [
    "pd.read_csv(\"embeddings.csv\", header = None)"
   ]
  },
  {
   "cell_type": "code",
   "execution_count": null,
   "id": "9f4bb524-9033-4262-8687-b9f617027a45",
   "metadata": {},
   "outputs": [],
   "source": [
    "!awk '/^>/ { if (seq) print seq; seq=\"\"; next } { seq = seq $0 } END { if (seq) print seq }' drive/MyDrive/RESEARCH/RAW_PROTEINS/Prot_05.faa > input.txt\n",
    "!head -n 50000 input.txt > test.txt"
   ]
  },
  {
   "cell_type": "code",
   "execution_count": null,
   "id": "d88da803-0966-4cc5-8895-f78660425816",
   "metadata": {},
   "outputs": [],
   "source": []
  },
  {
   "cell_type": "code",
   "execution_count": null,
   "id": "63732a69-b6fb-4f99-87d8-0fefa0873c25",
   "metadata": {},
   "outputs": [],
   "source": []
  }
 ],
 "metadata": {
  "kernelspec": {
   "display_name": "Python (bacteria-env)",
   "language": "python",
   "name": "bacteria-env"
  },
  "language_info": {
   "codemirror_mode": {
    "name": "ipython",
    "version": 3
   },
   "file_extension": ".py",
   "mimetype": "text/x-python",
   "name": "python",
   "nbconvert_exporter": "python",
   "pygments_lexer": "ipython3",
   "version": "3.11.9"
  }
 },
 "nbformat": 4,
 "nbformat_minor": 5
}
