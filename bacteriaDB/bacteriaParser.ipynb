{
 "cells": [
  {
   "cell_type": "markdown",
   "id": "4a58b17a-9099-461a-8e7c-56d612c1d44e",
   "metadata": {},
   "source": [
    "# Bacteria Parser\n",
    "This parses the bacteria fasta files into a panda dataframe"
   ]
  },
  {
   "cell_type": "markdown",
   "id": "d2951062-83c9-4a76-984a-e5a7a3900f42",
   "metadata": {},
   "source": [
    "## Set up"
   ]
  },
  {
   "cell_type": "code",
   "execution_count": 1,
   "id": "7b373158-df20-4901-9bdd-540e3ea3af94",
   "metadata": {
    "scrolled": true
   },
   "outputs": [],
   "source": [
    "import os\n",
    "import re\n",
    "import csv\n",
    "import glob\n",
    "import sqlite3\n",
    "import pandas as pd\n",
    "from Bio import SeqIO"
   ]
  },
  {
   "cell_type": "markdown",
   "id": "6e6e4cfb-c772-4686-8f6f-c4054f026f03",
   "metadata": {},
   "source": [
    "#### Point this to the folder with the fasta files"
   ]
  },
  {
   "cell_type": "code",
   "execution_count": 3,
   "id": "46897b65-a69d-43c6-a860-f904a089df94",
   "metadata": {},
   "outputs": [],
   "source": [
    "fasta_dir = \"ncbi_dataset/ncbi_dataset/data\""
   ]
  },
  {
   "cell_type": "code",
   "execution_count": 4,
   "id": "bf2a37e5-f29b-488f-9f61-2c6135b46538",
   "metadata": {},
   "outputs": [],
   "source": [
    "# Looking for folders starting with G (wildcard) and grabbing the path to its protein.faa file\n",
    "fasta_paths = glob.glob(os.path.join(fasta_dir, \"G*/protein.faa\"))"
   ]
  },
  {
   "cell_type": "code",
   "execution_count": 4,
   "id": "201aad3b-24bd-45af-a8f8-c4ff8413d75b",
   "metadata": {},
   "outputs": [
    {
     "name": "stdout",
     "output_type": "stream",
     "text": [
      "['ncbi_dataset/ncbi_dataset/data/GCF_900112345.1/protein.faa', 'ncbi_dataset/ncbi_dataset/data/GCF_029869925.1/protein.faa', 'ncbi_dataset/ncbi_dataset/data/GCF_013868055.1/protein.faa', 'ncbi_dataset/ncbi_dataset/data/GCF_001047375.1/protein.faa', 'ncbi_dataset/ncbi_dataset/data/GCF_001528745.1/protein.faa', 'ncbi_dataset/ncbi_dataset/data/GCF_000007605.1/protein.faa', 'ncbi_dataset/ncbi_dataset/data/GCF_045833485.1/protein.faa', 'ncbi_dataset/ncbi_dataset/data/GCF_035285365.1/protein.faa', 'ncbi_dataset/ncbi_dataset/data/GCF_042685625.1/protein.faa', 'ncbi_dataset/ncbi_dataset/data/GCF_000723885.1/protein.faa', 'ncbi_dataset/ncbi_dataset/data/GCF_024347455.1/protein.faa', 'ncbi_dataset/ncbi_dataset/data/GCF_000708045.1/protein.faa', 'ncbi_dataset/ncbi_dataset/data/GCF_014495845.1/protein.faa', 'ncbi_dataset/ncbi_dataset/data/GCF_900167905.1/protein.faa', 'ncbi_dataset/ncbi_dataset/data/GCF_003716875.1/protein.faa', 'ncbi_dataset/ncbi_dataset/data/GCF_001547735.1/protein.faa', 'ncbi_dataset/ncbi_dataset/data/GCF_029866465.1/protein.faa', 'ncbi_dataset/ncbi_dataset/data/GCF_001580535.1/protein.faa', 'ncbi_dataset/ncbi_dataset/data/GCF_004025325.1/protein.faa', 'ncbi_dataset/ncbi_dataset/data/GCF_900107435.1/protein.faa']\n"
     ]
    }
   ],
   "source": [
    "# Checking for accurate retrieval\n",
    "print(fasta_paths[:20])"
   ]
  },
  {
   "cell_type": "markdown",
   "id": "35deeeed-f2da-46a9-a4a5-9355f59109fa",
   "metadata": {},
   "source": [
    "## Creating pandas dataframe from fastas"
   ]
  },
  {
   "cell_type": "markdown",
   "id": "00ef10a0-f1ee-44cc-9389-5f77ea1c9b50",
   "metadata": {},
   "source": [
    "### Creating sql table"
   ]
  },
  {
   "cell_type": "code",
   "execution_count": 5,
   "id": "49e21ce7-d06b-45f8-a1f4-dba0b7135002",
   "metadata": {},
   "outputs": [
    {
     "data": {
      "text/plain": [
       "<sqlite3.Cursor at 0x7fd3769816c0>"
      ]
     },
     "execution_count": 5,
     "metadata": {},
     "output_type": "execute_result"
    }
   ],
   "source": [
    "conn = sqlite3.connect(\"bacteria.db\")\n",
    "\n",
    "# Create table scheme with sql\n",
    "conn.execute(\"\"\"\n",
    "CREATE TABLE IF NOT EXISTS sequences (\n",
    "  genome_id TEXT,\n",
    "  protein_id TEXT,\n",
    "  protein_seq TEXT,\n",
    "  taxonomic_label TEXT,\n",
    "  description TEXT\n",
    ")\n",
    "\"\"\")"
   ]
  },
  {
   "cell_type": "markdown",
   "id": "392a62c8-5fd5-4214-8ff5-b1c9c7b20bfa",
   "metadata": {},
   "source": [
    "### Extracting ids and sequences from MULTIPLE fasta"
   ]
  },
  {
   "cell_type": "code",
   "execution_count": 6,
   "id": "e5fb489d-3c38-4ab2-8011-dd5d65876e09",
   "metadata": {},
   "outputs": [],
   "source": [
    "def parse_fasta (path):\n",
    "\n",
    "    # Scan through every record in fasta\n",
    "    rows = []\n",
    "    for record in SeqIO.parse(path, \"fasta\"):\n",
    "\n",
    "        # name of the folder containing fasta\n",
    "        folder_name = os.path.basename(os.path.dirname(path))\n",
    "        \n",
    "        full_header = record.description\n",
    "\n",
    "        # extract organism name inside brackets using regex\n",
    "        match = re.search(r'\\[(.+?)\\]', full_header)\n",
    "        organism = match.group(1) if match else \"\"\n",
    "        \n",
    "        # create substring without bracketed part\n",
    "        no_id = full_header[len(record.id):].lstrip(\" :\")        \n",
    "        pre_description = re.sub(r'\\s*\\[.+?\\]', \"\", no_id)\n",
    "\n",
    "\n",
    "        rows.append({\n",
    "            \"genome_id\": folder_name,\n",
    "            \"protein_id\": record.id,\n",
    "            \"protein_seq\": str(record.seq),\n",
    "            \"taxonomic_label\": organism,    \n",
    "            \"description\": pre_description\n",
    "        })\n",
    "\n",
    "    # print (*rows);\n",
    "    return rows;\n",
    "    "
   ]
  },
  {
   "cell_type": "markdown",
   "id": "f8bf4041-4694-4862-b64d-093678538030",
   "metadata": {},
   "source": [
    "### Parse all fasta files and append to a Panda dataframe"
   ]
  },
  {
   "cell_type": "code",
   "execution_count": 7,
   "id": "7fc15427-c93b-4b16-9346-21877e3b937b",
   "metadata": {
    "scrolled": true
   },
   "outputs": [],
   "source": [
    "\n",
    "for path in fasta_paths:\n",
    "   rows = parse_fasta(path)\n",
    "    \n",
    "   pd.DataFrame(rows).to_sql(\"sequences\", conn, if_exists=\"append\", index=False)\n",
    "\n",
    "\n",
    "conn.commit()\n",
    "conn.close()\n",
    "    "
   ]
  },
  {
   "cell_type": "markdown",
   "id": "764cd8ce-a438-4966-a9c0-b2a92b426ab5",
   "metadata": {},
   "source": [
    "### Extracting protein id set from SINGLE fasta"
   ]
  },
  {
   "cell_type": "code",
   "execution_count": 3,
   "id": "df0b3658-bf45-4aa4-af26-cdaa8ad4dd02",
   "metadata": {
    "scrolled": true
   },
   "outputs": [],
   "source": [
    "def parse_fasta (path):\n",
    "\n",
    "    # Scan through every record in fasta\n",
    "    # Empty list to hold sequences\n",
    "    seq_list = []\n",
    "\n",
    "    for record in SeqIO.parse(path, \"fasta\"):\n",
    "\n",
    "        sequence = str(record.seq)\n",
    "        \n",
    "        seq_list.append(sequence)\n",
    "   \n",
    "    return seq_list;\n",
    "\n",
    "\n",
    "# Search through fasta and store list into file\n",
    "\n",
    "seq_list = parse_fasta('ncbi_dataset/ncbi_dataset/90/clustered_proteins_rep_seq.fasta')\n",
    "\n",
    "\n",
    "with open('seq_list_90.txt', 'w') as file:\n",
    "    # For better readibility list each protein id on new line\n",
    "    for item in seq_list:\n",
    "        file.write(item + '\\n')\n"
   ]
  },
  {
   "cell_type": "markdown",
   "id": "9c7596f5-1591-4a56-a534-64fd679bd03d",
   "metadata": {},
   "source": [
    "### Checking Database"
   ]
  },
  {
   "cell_type": "code",
   "execution_count": 2,
   "id": "3f2d2117-1ecf-4b57-887a-a2c9fb9a384f",
   "metadata": {},
   "outputs": [
    {
     "data": {
      "text/html": [
       "<div>\n",
       "<style scoped>\n",
       "    .dataframe tbody tr th:only-of-type {\n",
       "        vertical-align: middle;\n",
       "    }\n",
       "\n",
       "    .dataframe tbody tr th {\n",
       "        vertical-align: top;\n",
       "    }\n",
       "\n",
       "    .dataframe thead th {\n",
       "        text-align: right;\n",
       "    }\n",
       "</style>\n",
       "<table border=\"1\" class=\"dataframe\">\n",
       "  <thead>\n",
       "    <tr style=\"text-align: right;\">\n",
       "      <th></th>\n",
       "      <th>genome_id</th>\n",
       "      <th>protein_id</th>\n",
       "      <th>protein_seq</th>\n",
       "      <th>taxonomic_label</th>\n",
       "      <th>description</th>\n",
       "    </tr>\n",
       "  </thead>\n",
       "  <tbody>\n",
       "    <tr>\n",
       "      <th>0</th>\n",
       "      <td>GCF_900112345.1</td>\n",
       "      <td>WP_004008316.1</td>\n",
       "      <td>MKVNPSVKPICDKCKVIRRHGRVMVICENPRHKQRQG</td>\n",
       "      <td>Bacteria</td>\n",
       "      <td>MULTISPECIES: 50S ribosomal protein L36</td>\n",
       "    </tr>\n",
       "    <tr>\n",
       "      <th>1</th>\n",
       "      <td>GCF_900112345.1</td>\n",
       "      <td>WP_008360994.1</td>\n",
       "      <td>MAGQKIRIRLKAYDHEVIDTSARKIVDTVTRTGAKVAGPVPLPTEK...</td>\n",
       "      <td>Actinomycetes</td>\n",
       "      <td>MULTISPECIES: 30S ribosomal protein S10</td>\n",
       "    </tr>\n",
       "    <tr>\n",
       "      <th>2</th>\n",
       "      <td>GCF_900112345.1</td>\n",
       "      <td>WP_008361020.1</td>\n",
       "      <td>MAKTALKVKAARKPKYAVRAYTRCQRCGRPKAVFRKFGLCRICLRE...</td>\n",
       "      <td>Nocardioides</td>\n",
       "      <td>MULTISPECIES: type Z 30S ribosomal protein S14</td>\n",
       "    </tr>\n",
       "    <tr>\n",
       "      <th>3</th>\n",
       "      <td>GCF_900112345.1</td>\n",
       "      <td>WP_011757324.1</td>\n",
       "      <td>MIQQESRLKVADNTGAKEILCIRVLGGSGRRYAGIGDVIVATVKDA...</td>\n",
       "      <td>Nocardioidaceae</td>\n",
       "      <td>MULTISPECIES: 50S ribosomal protein L14</td>\n",
       "    </tr>\n",
       "    <tr>\n",
       "      <th>4</th>\n",
       "      <td>GCF_900112345.1</td>\n",
       "      <td>WP_017933175.1</td>\n",
       "      <td>MGSVIKKRRKRMAKKKHRKLLKKTRVARRKLGK</td>\n",
       "      <td>Nocardioides</td>\n",
       "      <td>MULTISPECIES: 30S ribosomal protein bS22</td>\n",
       "    </tr>\n",
       "    <tr>\n",
       "      <th>...</th>\n",
       "      <td>...</td>\n",
       "      <td>...</td>\n",
       "      <td>...</td>\n",
       "      <td>...</td>\n",
       "      <td>...</td>\n",
       "    </tr>\n",
       "    <tr>\n",
       "      <th>999995</th>\n",
       "      <td>GCF_021391395.1</td>\n",
       "      <td>WP_233783998.1</td>\n",
       "      <td>MAEPPAPAAPQASRTCFWGSQVTGFSDAGPDRAILNIGQRESWELT...</td>\n",
       "      <td>Sphingomonas cannabina</td>\n",
       "      <td>DUF6491 family protein</td>\n",
       "    </tr>\n",
       "    <tr>\n",
       "      <th>999996</th>\n",
       "      <td>GCF_021391395.1</td>\n",
       "      <td>WP_233783999.1</td>\n",
       "      <td>MNEDHDRPIPQSPLDAAPAATRRLLAETPLGTVEIPRPPLETLPYR...</td>\n",
       "      <td>Sphingomonas cannabina</td>\n",
       "      <td>hypothetical protein</td>\n",
       "    </tr>\n",
       "    <tr>\n",
       "      <th>999997</th>\n",
       "      <td>GCF_021391395.1</td>\n",
       "      <td>WP_233784000.1</td>\n",
       "      <td>MRFRRLGRTGLNLSELTIGTAGLARVAPEQARAAITLALDRGVNAV...</td>\n",
       "      <td>Sphingomonas cannabina</td>\n",
       "      <td>aldo/keto reductase</td>\n",
       "    </tr>\n",
       "    <tr>\n",
       "      <th>999998</th>\n",
       "      <td>GCF_021391395.1</td>\n",
       "      <td>WP_233784001.1</td>\n",
       "      <td>MEIANHLFYGDNLDVLREHIPDESVDLIYLDPPFNSNAGYNVLFKA...</td>\n",
       "      <td>Sphingomonas cannabina</td>\n",
       "      <td>DNA methyltransferase</td>\n",
       "    </tr>\n",
       "    <tr>\n",
       "      <th>999999</th>\n",
       "      <td>GCF_021391395.1</td>\n",
       "      <td>WP_233784002.1</td>\n",
       "      <td>MRAYAFGMIAAATLVAGCSDYDGYGGGPGYASDRSYRYYDWNRPDP...</td>\n",
       "      <td>Sphingomonas cannabina</td>\n",
       "      <td>glycine zipper 2TM domain-containing protein</td>\n",
       "    </tr>\n",
       "  </tbody>\n",
       "</table>\n",
       "<p>1000000 rows × 5 columns</p>\n",
       "</div>"
      ],
      "text/plain": [
       "              genome_id      protein_id  \\\n",
       "0       GCF_900112345.1  WP_004008316.1   \n",
       "1       GCF_900112345.1  WP_008360994.1   \n",
       "2       GCF_900112345.1  WP_008361020.1   \n",
       "3       GCF_900112345.1  WP_011757324.1   \n",
       "4       GCF_900112345.1  WP_017933175.1   \n",
       "...                 ...             ...   \n",
       "999995  GCF_021391395.1  WP_233783998.1   \n",
       "999996  GCF_021391395.1  WP_233783999.1   \n",
       "999997  GCF_021391395.1  WP_233784000.1   \n",
       "999998  GCF_021391395.1  WP_233784001.1   \n",
       "999999  GCF_021391395.1  WP_233784002.1   \n",
       "\n",
       "                                              protein_seq  \\\n",
       "0                   MKVNPSVKPICDKCKVIRRHGRVMVICENPRHKQRQG   \n",
       "1       MAGQKIRIRLKAYDHEVIDTSARKIVDTVTRTGAKVAGPVPLPTEK...   \n",
       "2       MAKTALKVKAARKPKYAVRAYTRCQRCGRPKAVFRKFGLCRICLRE...   \n",
       "3       MIQQESRLKVADNTGAKEILCIRVLGGSGRRYAGIGDVIVATVKDA...   \n",
       "4                       MGSVIKKRRKRMAKKKHRKLLKKTRVARRKLGK   \n",
       "...                                                   ...   \n",
       "999995  MAEPPAPAAPQASRTCFWGSQVTGFSDAGPDRAILNIGQRESWELT...   \n",
       "999996  MNEDHDRPIPQSPLDAAPAATRRLLAETPLGTVEIPRPPLETLPYR...   \n",
       "999997  MRFRRLGRTGLNLSELTIGTAGLARVAPEQARAAITLALDRGVNAV...   \n",
       "999998  MEIANHLFYGDNLDVLREHIPDESVDLIYLDPPFNSNAGYNVLFKA...   \n",
       "999999  MRAYAFGMIAAATLVAGCSDYDGYGGGPGYASDRSYRYYDWNRPDP...   \n",
       "\n",
       "               taxonomic_label                                     description  \n",
       "0                     Bacteria         MULTISPECIES: 50S ribosomal protein L36  \n",
       "1                Actinomycetes         MULTISPECIES: 30S ribosomal protein S10  \n",
       "2                 Nocardioides  MULTISPECIES: type Z 30S ribosomal protein S14  \n",
       "3              Nocardioidaceae         MULTISPECIES: 50S ribosomal protein L14  \n",
       "4                 Nocardioides        MULTISPECIES: 30S ribosomal protein bS22  \n",
       "...                        ...                                             ...  \n",
       "999995  Sphingomonas cannabina                          DUF6491 family protein  \n",
       "999996  Sphingomonas cannabina                            hypothetical protein  \n",
       "999997  Sphingomonas cannabina                             aldo/keto reductase  \n",
       "999998  Sphingomonas cannabina                           DNA methyltransferase  \n",
       "999999  Sphingomonas cannabina    glycine zipper 2TM domain-containing protein  \n",
       "\n",
       "[1000000 rows x 5 columns]"
      ]
     },
     "metadata": {},
     "output_type": "display_data"
    }
   ],
   "source": [
    "# connect to database\n",
    "conn = sqlite3.connect(\"bacteria.db\")\n",
    "\n",
    "# query for first 10000 in sequences table\n",
    "chunk = pd.read_sql_query(\"SELECT * FROM sequences LIMIT 1000000\", conn)\n",
    "\n",
    "# Display the query\n",
    "display(chunk)\n",
    "\n",
    "\n",
    "conn.close()"
   ]
  },
  {
   "cell_type": "code",
   "execution_count": null,
   "id": "78f36024-df9a-464b-a673-bb29f8bc9170",
   "metadata": {},
   "outputs": [],
   "source": []
  },
  {
   "cell_type": "code",
   "execution_count": 6,
   "id": "d54d5262-dc87-4b3b-874d-755e96a85ae0",
   "metadata": {},
   "outputs": [
    {
     "name": "stdout",
     "output_type": "stream",
     "text": [
      "Total rows in sequences: 86523087\n"
     ]
    }
   ],
   "source": [
    "# connect to database\n",
    "conn = sqlite3.connect(\"bacteria.db\")\n",
    "\n",
    "cur = conn.cursor()\n",
    "\n",
    "# Count number of \n",
    "cur.execute(\"SELECT COUNT(*) FROM sequences\")\n",
    "count = cur.fetchone()[0]\n",
    "\n",
    "print(f\"Total rows in sequences: {count}\")\n",
    "\n",
    "conn.close()"
   ]
  },
  {
   "cell_type": "markdown",
   "id": "3a2004e7-9fae-4247-aab0-73220b61a243",
   "metadata": {},
   "source": [
    "### Export into csv"
   ]
  },
  {
   "cell_type": "code",
   "execution_count": null,
   "id": "198875e4-a99f-4725-a6cf-097ef97f31e0",
   "metadata": {},
   "outputs": [],
   "source": [
    "conn = sqlite3.connect(\"bacteria.db\")\n",
    "cur  = conn.cursor()\n",
    "\n",
    "# run the query once\n",
    "cur.execute(\"SELECT * FROM sequences;\")\n",
    "\n",
    "# grab the header\n",
    "header = [col[0] for col in cur.description]\n",
    "\n",
    "with open(\"bacteriaDB.csv\", \"w\", newline=\"\") as f:\n",
    "    writer = csv.writer(f)\n",
    "    writer.writerow(header)\n",
    "    \n",
    "    # fetch & write in batches of 10 000\n",
    "    while True:\n",
    "        batch = cur.fetchmany(10_000)\n",
    "        if not batch:\n",
    "            break\n",
    "        writer.writerows(batch)\n",
    "\n",
    "conn.close()\n",
    "print(\"Done\")"
   ]
  },
  {
   "cell_type": "code",
   "execution_count": null,
   "id": "4a1c924f-94a9-474a-82c5-ab2291ded842",
   "metadata": {},
   "outputs": [],
   "source": [
    "\n",
    "\n",
    "\n",
    "\n",
    "\n",
    "\n",
    "SELECT COUNT(*) FROM"
   ]
  }
 ],
 "metadata": {
  "kernelspec": {
   "display_name": "Python (bacteria-env)",
   "language": "python",
   "name": "bacteria-env"
  },
  "language_info": {
   "codemirror_mode": {
    "name": "ipython",
    "version": 3
   },
   "file_extension": ".py",
   "mimetype": "text/x-python",
   "name": "python",
   "nbconvert_exporter": "python",
   "pygments_lexer": "ipython3",
   "version": "3.11.9"
  }
 },
 "nbformat": 4,
 "nbformat_minor": 5
}
